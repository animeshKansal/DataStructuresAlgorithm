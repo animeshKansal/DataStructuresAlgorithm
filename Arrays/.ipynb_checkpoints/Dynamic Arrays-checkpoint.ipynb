{
 "cells": [
  {
   "cell_type": "markdown",
   "metadata": {},
   "source": [
    "### Dynamic Arrays Implementation"
   ]
  },
  {
   "cell_type": "code",
   "execution_count": 45,
   "metadata": {
    "collapsed": false,
    "scrolled": true
   },
   "outputs": [
    {
     "name": "stdout",
     "output_type": "stream",
     "text": [
      "Length = 0, size in bytes = 64\n",
      "Length = 1, size in bytes = 96\n",
      "Length = 2, size in bytes = 96\n",
      "Length = 3, size in bytes = 96\n",
      "Length = 4, size in bytes = 96\n",
      "Length = 5, size in bytes = 128\n",
      "Length = 6, size in bytes = 128\n",
      "Length = 7, size in bytes = 128\n",
      "Length = 8, size in bytes = 128\n",
      "Length = 9, size in bytes = 192\n",
      "Length = 10, size in bytes = 192\n",
      "Length = 11, size in bytes = 192\n",
      "Length = 12, size in bytes = 192\n",
      "Length = 13, size in bytes = 192\n",
      "Length = 14, size in bytes = 192\n",
      "Length = 15, size in bytes = 192\n",
      "Length = 16, size in bytes = 192\n",
      "Length = 17, size in bytes = 264\n",
      "Length = 18, size in bytes = 264\n",
      "Length = 19, size in bytes = 264\n",
      "Length = 20, size in bytes = 264\n",
      "Length = 21, size in bytes = 264\n",
      "Length = 22, size in bytes = 264\n",
      "Length = 23, size in bytes = 264\n",
      "Length = 24, size in bytes = 264\n"
     ]
    }
   ],
   "source": [
    "# Python - in built \n",
    "\n",
    "import sys\n",
    "\n",
    "# set n\n",
    "\n",
    "n = 25\n",
    "\n",
    "data = []\n",
    "\n",
    "for i in range(n):\n",
    "    \n",
    "    a = len(data)\n",
    "    \n",
    "    b = sys.getsizeof(data)\n",
    "    \n",
    "    print(\"Length = {}, size in bytes = {}\".format(a,b))\n",
    "    \n",
    "    data.append(n)"
   ]
  },
  {
   "cell_type": "code",
   "execution_count": 47,
   "metadata": {
    "collapsed": false
   },
   "outputs": [
    {
     "data": {
      "text/plain": [
       "list"
      ]
     },
     "execution_count": 47,
     "metadata": {},
     "output_type": "execute_result"
    }
   ],
   "source": [
    "type(data)"
   ]
  },
  {
   "cell_type": "code",
   "execution_count": 48,
   "metadata": {
    "collapsed": true
   },
   "outputs": [],
   "source": [
    "import ctypes\n",
    "\n",
    "class DynamicArrays(object):\n",
    "    \n",
    "    def __init__(self):\n",
    "        \n",
    "        self.n = 0\n",
    "        self.capacity = 1\n",
    "        self.A = self.make_array(self.capacity)\n",
    "    \n",
    "    def __len__(self):\n",
    "        return self.n\n",
    "    \n",
    "    def __getitem__(self,k):\n",
    "        if not 0 <= k < self.n:\n",
    "            return IndexError('K is out of bounds')\n",
    "        \n",
    "        return self.A[k]\n",
    "    \n",
    "    def append(self,elements):\n",
    "        if self.n == self.capacity:\n",
    "            self._resize(2*self.capacity) # 2*x if capacity is not enough\n",
    "            \n",
    "        self.A[self.n] = elements\n",
    "        self.n +=1\n",
    "        \n",
    "    def _resize(self,new_cap):\n",
    "        \n",
    "        B = self.make_array(new_cap)\n",
    "        for k in range(self.n):\n",
    "            B[k] = self.A[k]\n",
    "        \n",
    "        self.A = B \n",
    "        self.capacity = new_cap\n",
    "        \n",
    "    def make_array(self,new_cap):\n",
    "        \n",
    "        return (new_cap*ctypes.py_object)()"
   ]
  },
  {
   "cell_type": "code",
   "execution_count": 61,
   "metadata": {
    "collapsed": false
   },
   "outputs": [],
   "source": [
    "arr = DynamicArrays()"
   ]
  },
  {
   "cell_type": "code",
   "execution_count": 62,
   "metadata": {
    "collapsed": false
   },
   "outputs": [],
   "source": [
    "arr.append(101)"
   ]
  },
  {
   "cell_type": "code",
   "execution_count": 63,
   "metadata": {
    "collapsed": false
   },
   "outputs": [
    {
     "data": {
      "text/plain": [
       "1"
      ]
     },
     "execution_count": 63,
     "metadata": {},
     "output_type": "execute_result"
    }
   ],
   "source": [
    "len(arr)"
   ]
  },
  {
   "cell_type": "code",
   "execution_count": 64,
   "metadata": {
    "collapsed": true
   },
   "outputs": [],
   "source": [
    "arr.append(22)"
   ]
  },
  {
   "cell_type": "code",
   "execution_count": 65,
   "metadata": {
    "collapsed": false
   },
   "outputs": [
    {
     "data": {
      "text/plain": [
       "2"
      ]
     },
     "execution_count": 65,
     "metadata": {},
     "output_type": "execute_result"
    }
   ],
   "source": [
    "len(arr)"
   ]
  },
  {
   "cell_type": "code",
   "execution_count": 66,
   "metadata": {
    "collapsed": false,
    "scrolled": true
   },
   "outputs": [
    {
     "data": {
      "text/plain": [
       "101"
      ]
     },
     "execution_count": 66,
     "metadata": {},
     "output_type": "execute_result"
    }
   ],
   "source": [
    "arr[0]"
   ]
  },
  {
   "cell_type": "code",
   "execution_count": 67,
   "metadata": {
    "collapsed": false
   },
   "outputs": [
    {
     "data": {
      "text/plain": [
       "22"
      ]
     },
     "execution_count": 67,
     "metadata": {},
     "output_type": "execute_result"
    }
   ],
   "source": [
    "arr[1]"
   ]
  },
  {
   "cell_type": "code",
   "execution_count": 73,
   "metadata": {
    "collapsed": false,
    "scrolled": true
   },
   "outputs": [
    {
     "name": "stdout",
     "output_type": "stream",
     "text": [
      "Length = 0, size in bytes = 648\n",
      "Length = 1, size in bytes = 624\n",
      "Length = 2, size in bytes = 624\n",
      "Length = 3, size in bytes = 656\n",
      "Length = 4, size in bytes = 624\n",
      "Length = 5, size in bytes = 656\n",
      "Length = 6, size in bytes = 656\n",
      "Length = 7, size in bytes = 656\n",
      "Length = 8, size in bytes = 624\n",
      "Length = 9, size in bytes = 656\n",
      "Length = 10, size in bytes = 656\n",
      "Length = 11, size in bytes = 656\n",
      "Length = 12, size in bytes = 656\n",
      "Length = 13, size in bytes = 656\n",
      "Length = 14, size in bytes = 656\n",
      "Length = 15, size in bytes = 656\n",
      "Length = 16, size in bytes = 624\n",
      "Length = 17, size in bytes = 656\n",
      "Length = 18, size in bytes = 656\n",
      "Length = 19, size in bytes = 656\n",
      "Length = 20, size in bytes = 656\n",
      "Length = 21, size in bytes = 656\n",
      "Length = 22, size in bytes = 656\n",
      "Length = 23, size in bytes = 656\n",
      "Length = 24, size in bytes = 656\n",
      "Length = 25, size in bytes = 656\n",
      "Length = 26, size in bytes = 656\n",
      "Length = 27, size in bytes = 656\n",
      "Length = 28, size in bytes = 656\n",
      "Length = 29, size in bytes = 656\n",
      "Length = 30, size in bytes = 656\n",
      "Length = 31, size in bytes = 656\n",
      "Length = 32, size in bytes = 624\n",
      "Length = 33, size in bytes = 656\n",
      "Length = 34, size in bytes = 656\n",
      "Length = 35, size in bytes = 656\n",
      "Length = 36, size in bytes = 656\n",
      "Length = 37, size in bytes = 656\n",
      "Length = 38, size in bytes = 656\n",
      "Length = 39, size in bytes = 656\n",
      "Length = 40, size in bytes = 656\n",
      "Length = 41, size in bytes = 656\n",
      "Length = 42, size in bytes = 656\n",
      "Length = 43, size in bytes = 656\n",
      "Length = 44, size in bytes = 656\n",
      "Length = 45, size in bytes = 656\n",
      "Length = 46, size in bytes = 656\n",
      "Length = 47, size in bytes = 656\n",
      "Length = 48, size in bytes = 656\n",
      "Length = 49, size in bytes = 656\n",
      "Length = 50, size in bytes = 656\n",
      "Length = 51, size in bytes = 656\n",
      "Length = 52, size in bytes = 656\n",
      "Length = 53, size in bytes = 656\n",
      "Length = 54, size in bytes = 656\n",
      "Length = 55, size in bytes = 656\n",
      "Length = 56, size in bytes = 656\n",
      "Length = 57, size in bytes = 656\n",
      "Length = 58, size in bytes = 656\n",
      "Length = 59, size in bytes = 656\n",
      "Length = 60, size in bytes = 656\n",
      "Length = 61, size in bytes = 656\n",
      "Length = 62, size in bytes = 656\n",
      "Length = 63, size in bytes = 656\n",
      "Length = 64, size in bytes = 624\n",
      "Length = 65, size in bytes = 656\n",
      "Length = 66, size in bytes = 656\n",
      "Length = 67, size in bytes = 656\n",
      "Length = 68, size in bytes = 656\n",
      "Length = 69, size in bytes = 656\n",
      "Length = 70, size in bytes = 656\n",
      "Length = 71, size in bytes = 656\n",
      "Length = 72, size in bytes = 656\n",
      "Length = 73, size in bytes = 656\n",
      "Length = 74, size in bytes = 656\n",
      "Length = 75, size in bytes = 656\n",
      "Length = 76, size in bytes = 656\n",
      "Length = 77, size in bytes = 656\n",
      "Length = 78, size in bytes = 656\n",
      "Length = 79, size in bytes = 656\n",
      "Length = 80, size in bytes = 656\n",
      "Length = 81, size in bytes = 656\n",
      "Length = 82, size in bytes = 656\n",
      "Length = 83, size in bytes = 656\n",
      "Length = 84, size in bytes = 656\n",
      "Length = 85, size in bytes = 656\n",
      "Length = 86, size in bytes = 656\n",
      "Length = 87, size in bytes = 656\n",
      "Length = 88, size in bytes = 656\n",
      "Length = 89, size in bytes = 656\n",
      "Length = 90, size in bytes = 656\n",
      "Length = 91, size in bytes = 656\n",
      "Length = 92, size in bytes = 656\n",
      "Length = 93, size in bytes = 656\n",
      "Length = 94, size in bytes = 656\n",
      "Length = 95, size in bytes = 656\n",
      "Length = 96, size in bytes = 656\n",
      "Length = 97, size in bytes = 656\n",
      "Length = 98, size in bytes = 656\n",
      "Length = 99, size in bytes = 656\n"
     ]
    }
   ],
   "source": [
    "# Python - my implementation\n",
    "from pympler import asizeof\n",
    "\n",
    "n = 100\n",
    "\n",
    "data = DynamicArrays()\n",
    "\n",
    "for i in range(n):\n",
    "    \n",
    "    a = len(data)\n",
    "    \n",
    "    b = asizeof.asizeof(data)\n",
    "    \n",
    "    print(\"Length = {}, size in bytes = {}\".format(a,b))\n",
    "    \n",
    "    data.append(n)"
   ]
  }
 ],
 "metadata": {
  "kernelspec": {
   "display_name": "Python 3",
   "language": "python",
   "name": "python3"
  },
  "language_info": {
   "codemirror_mode": {
    "name": "ipython",
    "version": 3
   },
   "file_extension": ".py",
   "mimetype": "text/x-python",
   "name": "python",
   "nbconvert_exporter": "python",
   "pygments_lexer": "ipython3",
   "version": "3.6.3"
  }
 },
 "nbformat": 4,
 "nbformat_minor": 2
}

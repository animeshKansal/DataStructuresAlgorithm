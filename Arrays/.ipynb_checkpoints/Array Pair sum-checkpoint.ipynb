{
 "cells": [
  {
   "cell_type": "markdown",
   "metadata": {},
   "source": [
    "# Array Pair Sum\n",
    "#### Problem\n",
    "Given an integer array, output all the unique pairs that sum up to a specific value k.\n",
    "\n",
    "So the input:\n",
    "\n",
    "pair_sum([1,3,2,2],4)\n",
    "\n",
    "would return 2 pairs:\n",
    "\n",
    " (1,3)\n",
    " (2,2)\n"
   ]
  },
  {
   "cell_type": "code",
   "execution_count": 45,
   "metadata": {
    "collapsed": false
   },
   "outputs": [],
   "source": [
    "def pair_sum(arr,k):\n",
    "    \n",
    "    if len(arr)<2:\n",
    "        return \n",
    "    \n",
    "    # tracking \n",
    "    \n",
    "    seen = set()\n",
    "    output = set()\n",
    "     \n",
    "    for num in arr:\n",
    "        \n",
    "        target = k - num \n",
    "        print(num)\n",
    "\n",
    "        if target not in seen:\n",
    "            seen.add(num)\n",
    "        \n",
    "        else:\n",
    "            output.add( (min(num,target), max(num,target)))\n",
    "            \n",
    "        print(\"seen = {}\".format(seen))\n",
    "        print(\"output = {}\".format(output))\n",
    "    return len(output)"
   ]
  },
  {
   "cell_type": "code",
   "execution_count": 48,
   "metadata": {
    "collapsed": false
   },
   "outputs": [
    {
     "name": "stdout",
     "output_type": "stream",
     "text": [
      "1\n",
      "seen = {1}\n",
      "output = set()\n",
      "3\n",
      "seen = {1}\n",
      "output = {(1, 3)}\n",
      "2\n",
      "seen = {1, 2}\n",
      "output = {(1, 3)}\n",
      "2\n",
      "seen = {1, 2}\n",
      "output = {(1, 3), (2, 2)}\n"
     ]
    },
    {
     "data": {
      "text/plain": [
       "2"
      ]
     },
     "execution_count": 48,
     "metadata": {},
     "output_type": "execute_result"
    }
   ],
   "source": [
    "pair_sum([1,3,2,2],4)\n"
   ]
  },
  {
   "cell_type": "code",
   "execution_count": 50,
   "metadata": {
    "collapsed": false
   },
   "outputs": [
    {
     "name": "stdout",
     "output_type": "stream",
     "text": [
      "1\n",
      "seen = {1}\n",
      "output = set()\n",
      "9\n",
      "seen = {1}\n",
      "output = {(1, 9)}\n",
      "2\n",
      "seen = {1, 2}\n",
      "output = {(1, 9)}\n",
      "8\n",
      "seen = {1, 2}\n",
      "output = {(2, 8), (1, 9)}\n",
      "3\n",
      "seen = {1, 2, 3}\n",
      "output = {(2, 8), (1, 9)}\n",
      "7\n",
      "seen = {1, 2, 3}\n",
      "output = {(2, 8), (1, 9), (3, 7)}\n",
      "4\n",
      "seen = {1, 2, 3, 4}\n",
      "output = {(2, 8), (1, 9), (3, 7)}\n",
      "6\n",
      "seen = {1, 2, 3, 4}\n",
      "output = {(2, 8), (4, 6), (1, 9), (3, 7)}\n",
      "5\n",
      "seen = {1, 2, 3, 4, 5}\n",
      "output = {(2, 8), (4, 6), (1, 9), (3, 7)}\n",
      "5\n",
      "seen = {1, 2, 3, 4, 5}\n",
      "output = {(4, 6), (5, 5), (2, 8), (1, 9), (3, 7)}\n",
      "13\n",
      "seen = {1, 2, 3, 4, 5, 13}\n",
      "output = {(4, 6), (5, 5), (2, 8), (1, 9), (3, 7)}\n",
      "14\n",
      "seen = {1, 2, 3, 4, 5, 13, 14}\n",
      "output = {(4, 6), (5, 5), (2, 8), (1, 9), (3, 7)}\n",
      "11\n",
      "seen = {1, 2, 3, 4, 5, 11, 13, 14}\n",
      "output = {(4, 6), (5, 5), (2, 8), (1, 9), (3, 7)}\n",
      "13\n",
      "seen = {1, 2, 3, 4, 5, 11, 13, 14}\n",
      "output = {(4, 6), (5, 5), (2, 8), (1, 9), (3, 7)}\n",
      "-1\n",
      "seen = {1, 2, 3, 4, 5, 11, 13, 14}\n",
      "output = {(4, 6), (5, 5), (2, 8), (-1, 11), (1, 9), (3, 7)}\n",
      "1\n",
      "seen = {1}\n",
      "output = set()\n",
      "2\n",
      "seen = {1}\n",
      "output = {(1, 2)}\n",
      "3\n",
      "seen = {1, 3}\n",
      "output = {(1, 2)}\n",
      "1\n",
      "seen = {1, 3}\n",
      "output = {(1, 2)}\n",
      "1\n",
      "seen = {1}\n",
      "output = set()\n",
      "3\n",
      "seen = {1}\n",
      "output = {(1, 3)}\n",
      "2\n",
      "seen = {1, 2}\n",
      "output = {(1, 3)}\n",
      "2\n",
      "seen = {1, 2}\n",
      "output = {(1, 3), (2, 2)}\n",
      "ALL TEST CASES PASSED\n"
     ]
    }
   ],
   "source": [
    "\"\"\"\n",
    "RUN THIS CELL TO TEST YOUR SOLUTION\n",
    "\"\"\"\n",
    "from nose.tools import assert_equal\n",
    "\n",
    "class TestPair(object):\n",
    "    \n",
    "    def test(self,sol):\n",
    "        assert_equal(sol([1,9,2,8,3,7,4,6,5,5,13,14,11,13,-1],10),6)\n",
    "        assert_equal(sol([1,2,3,1],3),1)\n",
    "        assert_equal(sol([1,3,2,2],4),2)\n",
    "        print('ALL TEST CASES PASSED')\n",
    "        \n",
    "#Run tests\n",
    "t = TestPair()\n",
    "t.test(pair_sum)\n",
    "    "
   ]
  },
  {
   "cell_type": "code",
   "execution_count": 51,
   "metadata": {
    "collapsed": false
   },
   "outputs": [
    {
     "ename": "NameError",
     "evalue": "name 'sol' is not defined",
     "output_type": "error",
     "traceback": [
      "\u001b[0;31m---------------------------------------------------------------------------\u001b[0m",
      "\u001b[0;31mNameError\u001b[0m                                 Traceback (most recent call last)",
      "\u001b[0;32m<ipython-input-51-cc92f5068eb3>\u001b[0m in \u001b[0;36m<module>\u001b[0;34m()\u001b[0m\n\u001b[0;32m----> 1\u001b[0;31m \u001b[0msol\u001b[0m\u001b[0;34m(\u001b[0m\u001b[0;34m[\u001b[0m\u001b[0;36m1\u001b[0m\u001b[0;34m,\u001b[0m\u001b[0;36m9\u001b[0m\u001b[0;34m,\u001b[0m\u001b[0;36m2\u001b[0m\u001b[0;34m,\u001b[0m\u001b[0;36m8\u001b[0m\u001b[0;34m,\u001b[0m\u001b[0;36m3\u001b[0m\u001b[0;34m,\u001b[0m\u001b[0;36m7\u001b[0m\u001b[0;34m,\u001b[0m\u001b[0;36m4\u001b[0m\u001b[0;34m,\u001b[0m\u001b[0;36m6\u001b[0m\u001b[0;34m,\u001b[0m\u001b[0;36m5\u001b[0m\u001b[0;34m,\u001b[0m\u001b[0;36m5\u001b[0m\u001b[0;34m,\u001b[0m\u001b[0;36m13\u001b[0m\u001b[0;34m,\u001b[0m\u001b[0;36m14\u001b[0m\u001b[0;34m,\u001b[0m\u001b[0;36m11\u001b[0m\u001b[0;34m,\u001b[0m\u001b[0;36m13\u001b[0m\u001b[0;34m,\u001b[0m\u001b[0;34m-\u001b[0m\u001b[0;36m1\u001b[0m\u001b[0;34m]\u001b[0m\u001b[0;34m,\u001b[0m\u001b[0;36m10\u001b[0m\u001b[0;34m)\u001b[0m\u001b[0;34m\u001b[0m\u001b[0m\n\u001b[0m",
      "\u001b[0;31mNameError\u001b[0m: name 'sol' is not defined"
     ]
    }
   ],
   "source": [
    "sol([1,9,2,8,3,7,4,6,5,5,13,14,11,13,-1],10)"
   ]
  },
  {
   "cell_type": "code",
   "execution_count": null,
   "metadata": {
    "collapsed": true
   },
   "outputs": [],
   "source": []
  }
 ],
 "metadata": {
  "kernelspec": {
   "display_name": "Python 3",
   "language": "python",
   "name": "python3"
  },
  "language_info": {
   "codemirror_mode": {
    "name": "ipython",
    "version": 3
   },
   "file_extension": ".py",
   "mimetype": "text/x-python",
   "name": "python",
   "nbconvert_exporter": "python",
   "pygments_lexer": "ipython3",
   "version": "3.6.3"
  }
 },
 "nbformat": 4,
 "nbformat_minor": 2
}
